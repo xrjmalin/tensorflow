{
 "cells": [
  {
   "cell_type": "code",
   "execution_count": 1,
   "metadata": {},
   "outputs": [],
   "source": [
    "import tensorflow as tf"
   ]
  },
  {
   "cell_type": "code",
   "execution_count": 2,
   "metadata": {},
   "outputs": [
    {
     "name": "stdout",
     "output_type": "stream",
     "text": [
      "[[15]]\n"
     ]
    }
   ],
   "source": [
    "#创建两个常量，矩阵乘法 会话并执行\n",
    "m1 = tf.constant([[3,3]])\n",
    "m2 = tf.constant([[2],[3]])\n",
    "product = tf.matmul(m1,m2)\n",
    "with tf.Session() as sess:\n",
    "    res = sess.run(product)\n",
    "    print(res)"
   ]
  },
  {
   "cell_type": "code",
   "execution_count": 3,
   "metadata": {},
   "outputs": [
    {
     "name": "stdout",
     "output_type": "stream",
     "text": [
      "[-2 -1]\n",
      "[-1  1]\n"
     ]
    }
   ],
   "source": [
    "#创建变量，矩阵加减，变量初始化\n",
    "v1 = tf.Variable([1,2])\n",
    "m3 = tf.constant([3,3])\n",
    "\n",
    "sub = tf.subtract(v1,m3)\n",
    "add = tf.add(v1,sub)\n",
    "\n",
    "init = tf.global_variables_initializer()\n",
    "\n",
    "with tf.Session() as sess:\n",
    "    sess.run(init)\n",
    "    print(sess.run(sub))\n",
    "    print(sess.run(add))"
   ]
  },
  {
   "cell_type": "code",
   "execution_count": 4,
   "metadata": {},
   "outputs": [
    {
     "name": "stdout",
     "output_type": "stream",
     "text": [
      "0\n",
      "1\n",
      "2\n",
      "3\n",
      "4\n",
      "5\n"
     ]
    }
   ],
   "source": [
    "#创建初始化变量\n",
    "state = tf.Variable(0,name='counter')\n",
    "#创建加法op，使state加一\n",
    "new_state = tf.add(state,1)\n",
    "#tf中不能单纯使用=赋值，创建赋值op\n",
    "update_state = tf.assign(state,new_state)\n",
    "\n",
    "init = tf.global_variables_initializer()\n",
    "\n",
    "with tf.Session() as sess:\n",
    "    sess.run(init)\n",
    "    print(sess.run(state))\n",
    "    for _ in range(5):\n",
    "        sess.run(update_state)\n",
    "        print(sess.run(state))"
   ]
  },
  {
   "cell_type": "code",
   "execution_count": 23,
   "metadata": {},
   "outputs": [
    {
     "name": "stdout",
     "output_type": "stream",
     "text": [
      "[5.0, 20.0]\n"
     ]
    }
   ],
   "source": [
    "#fetch :同时执行多个OP\n",
    "input1 = tf.constant(2.0)\n",
    "input2 = tf.constant(3.0)\n",
    "input3 = tf.constant(4.0)\n",
    "add = tf.add(input1,input2)\n",
    "mul = tf.multiply(input3,add)\n",
    " \n",
    "with tf.Session() as sess:\n",
    "    res = sess.run([add,mul])\n",
    "    print(res)"
   ]
  },
  {
   "cell_type": "code",
   "execution_count": 6,
   "metadata": {},
   "outputs": [
    {
     "name": "stdout",
     "output_type": "stream",
     "text": [
      "[35.]\n"
     ]
    }
   ],
   "source": [
    "#feed : 创建占位符\n",
    "input4 = tf.placeholder(tf.float32) # placeholder:表示创建占位符\n",
    "input5 = tf.placeholder(tf.float32)\n",
    "output = tf.multiply(input4,input5)\n",
    "\n",
    "with tf.Session() as sess:\n",
    "    #占位符输入值需要采用字典的形式\n",
    "    res = sess.run(output,feed_dict = {input4:[7.0],input5:[5.0]})\n",
    "    print(res)"
   ]
  },
  {
   "cell_type": "code",
   "execution_count": 7,
   "metadata": {},
   "outputs": [
    {
     "name": "stdout",
     "output_type": "stream",
     "text": [
      "0 [0.0558221, 0.10072829]\n",
      "20 [0.10481107, 0.1973183]\n",
      "40 [0.10271966, 0.1984841]\n",
      "60 [0.1015374, 0.19914308]\n",
      "80 [0.10086908, 0.19951558]\n",
      "100 [0.100491285, 0.19972616]\n",
      "120 [0.100277714, 0.19984521]\n",
      "140 [0.10015699, 0.1999125]\n",
      "160 [0.10008874, 0.19995055]\n",
      "180 [0.100050166, 0.19997203]\n",
      "200 [0.10002836, 0.1999842]\n"
     ]
    }
   ],
   "source": [
    "#利用tf完成线性回归模型\n",
    "#随机生成100个点\n",
    "import numpy as np\n",
    "x_data = np.random.rand(100)\n",
    "y_data = x_data*0.1+0.2\n",
    "\n",
    "#构造线性模型需要的变量\n",
    "k = tf.Variable(0.)\n",
    "b = tf.Variable(0.)\n",
    "y = k*x_data+b\n",
    "\n",
    "#定义损失，优化器(利用梯度下降法,实际上就是定义一个学习率)和最小化代价\n",
    "loss = tf.reduce_mean(tf.square(y_data-y))\n",
    "optimizer = tf.train.GradientDescentOptimizer(0.2)\n",
    "train = optimizer.minimize(loss)\n",
    "\n",
    "#定义梯度下降迭代201次，每20次打印一次\n",
    "init = tf.global_variables_initializer()\n",
    "\n",
    "with tf.Session() as sess:\n",
    "    sess.run(init)\n",
    "    for step in range(201):\n",
    "        sess.run(train)\n",
    "        if step%20==0:\n",
    "            print(step,sess.run([k,b]))"
   ]
  },
  {
   "cell_type": "code",
   "execution_count": 8,
   "metadata": {},
   "outputs": [
    {
     "data": {
      "image/png": "[encoded data removed]",
      "text/plain": [
       "<Figure size 432x288 with 1 Axes>"
      ]
     },
     "metadata": {
      "needs_background": "light"
     },
     "output_type": "display_data"
    }
   ],
   "source": [
    "import matplotlib.pyplot as plt\n",
    "%matplotlib inline\n",
    "#利用tf实现线性回归的神经网络\n",
    "\n",
    "#生成200个随机点\n",
    "x_data = np.linspace(-0.5,0.5,200)[:,np.newaxis]\n",
    "noise = np.random.normal(0,0.02,x_data.shape)\n",
    "y_data = np.square(x_data)+noise\n",
    "\n",
    "#定义两个占位符\n",
    "x = tf.placeholder(tf.float32,[None,1])\n",
    "y = tf.placeholder(tf.float32,[None,1])\n",
    "\n",
    "#定义神经网络中间层\n",
    "weights_L1 = tf.Variable(tf.random_normal([1,10]))\n",
    "bias_L1 = tf.Variable(tf.zeros([1,10]))\n",
    "wx_plus_L1 = tf.matmul(x,weights_L1) + bias_L1\n",
    "L1 = tf.nn.tanh(wx_plus_L1)\n",
    "\n",
    "#定义神经网络输出层\n",
    "weights_L2 = tf.Variable(tf.random_normal([10,1]))\n",
    "bias_L2 = tf.Variable(tf.zeros([1,1]))\n",
    "wx_plus_L2 = tf.matmul(L1,weights_L2)+bias_L2\n",
    "prediction = tf.nn.tanh(wx_plus_L2)\n",
    "\n",
    "#定义损失，优化器(利用梯度下降法,实际上就是定义一个学习率)和最小化代价\n",
    "loss = tf.reduce_mean(tf.square(y-prediction))\n",
    "train_step = tf.train.GradientDescentOptimizer(0.1).minimize(loss)\n",
    "\n",
    "with tf.Session() as sess:\n",
    "    sess.run(tf.global_variables_initializer())\n",
    "    for _ in range(2000):\n",
    "        sess.run(train_step,feed_dict={x:x_data,y:y_data})\n",
    "    prediction_value = sess.run(prediction,feed_dict={x:x_data})\n",
    "    \n",
    "    plt.figure()\n",
    "    plt.scatter(x_data,y_data)\n",
    "    plt.plot(x_data,prediction_value,'r-',lw=5)\n",
    "    plt.show()"
   ]
  },
  {
   "cell_type": "code",
   "execution_count": 9,
   "metadata": {},
   "outputs": [],
   "source": [
    "import tensorflow as tf\n",
    "from tensorflow.examples.tutorials.mnist import input_data"
   ]
  },
  {
   "cell_type": "code",
   "execution_count": 13,
   "metadata": {},
   "outputs": [
    {
     "name": "stdout",
     "output_type": "stream",
     "text": [
      "Extracting MNIST_data/train-images-idx3-ubyte.gz\n",
      "Extracting MNIST_data/train-labels-idx1-ubyte.gz\n",
      "Extracting MNIST_data/t10k-images-idx3-ubyte.gz\n",
      "Extracting MNIST_data/t10k-labels-idx1-ubyte.gz\n",
      "iter 0  ,testing accuracy: 0.9305\n",
      "iter 1  ,testing accuracy: 0.941\n",
      "iter 2  ,testing accuracy: 0.947\n",
      "iter 3  ,testing accuracy: 0.9528\n",
      "iter 4  ,testing accuracy: 0.9551\n",
      "iter 5  ,testing accuracy: 0.9529\n",
      "iter 6  ,testing accuracy: 0.9591\n",
      "iter 7  ,testing accuracy: 0.9593\n",
      "iter 8  ,testing accuracy: 0.96\n",
      "iter 9  ,testing accuracy: 0.9599\n",
      "iter 10  ,testing accuracy: 0.9608\n",
      "iter 11  ,testing accuracy: 0.9558\n",
      "iter 12  ,testing accuracy: 0.9618\n",
      "iter 13  ,testing accuracy: 0.9613\n",
      "iter 14  ,testing accuracy: 0.9638\n",
      "iter 15  ,testing accuracy: 0.9607\n",
      "iter 16  ,testing accuracy: 0.9624\n",
      "iter 17  ,testing accuracy: 0.9638\n",
      "iter 18  ,testing accuracy: 0.9628\n",
      "iter 19  ,testing accuracy: 0.9642\n",
      "iter 20  ,testing accuracy: 0.9649\n"
     ]
    }
   ],
   "source": [
    "#载入数据库\n",
    "mnist = input_data.read_data_sets('MNIST_data',one_hot=True)\n",
    "\n",
    "#每个批次的大小(表示每一次放入神经网络的图片数)\n",
    "batch_size = 100\n",
    "#计算一共有多少的批次\n",
    "n_batch = mnist.train.num_examples//batch_size\n",
    "\n",
    "#定义两个占位符\n",
    "x = tf.placeholder(tf.float32,[None,784])\n",
    "y = tf.placeholder(tf.float32,[None,10])\n",
    "\n",
    "#创建一个神经网络\n",
    "W = tf.Variable(tf.zeros([784,50]))\n",
    "b = tf.Variable(tf.zeros([50]))\n",
    "prediction1 = tf.nn.tanh(tf.matmul(x,W)+b)\n",
    "# prediction1 = tf.matmul(x,W)+b\n",
    "\n",
    "W1 = tf.Variable(tf.random_normal([50,10]))\n",
    "b1 = tf.Variable(tf.zeros([10]))\n",
    "prediction = tf.matmul(prediction1,W1)+b1\n",
    "\n",
    "#二次代价\n",
    "# loss = tf.reduce_mean(tf.square(y-prediction))\n",
    "loss = tf.reduce_mean(tf.nn.softmax_cross_entropy_with_logits_v2(labels=y,logits=prediction))\n",
    "\n",
    "train_step = tf.train.GradientDescentOptimizer(0.2).minimize(loss)\n",
    "\n",
    "init = tf.global_variables_initializer()\n",
    "\n",
    "#结果存放在布尔类型列表中（argmax返回一维张量中最大的值所在的位置）\n",
    "correct_prediction = tf.equal(tf.argmax(y,1),tf.argmax(prediction,1))\n",
    "\n",
    "#把布尔类型转化成成0，1模式\n",
    "accuracy = tf.reduce_mean(tf.cast(correct_prediction,tf.float32))\n",
    "\n",
    "with tf.Session() as sess:\n",
    "    sess.run(init)\n",
    "    for epoch in range(21):\n",
    "        for batch in range(n_batch):\n",
    "            batch_xs,batch_ys = mnist.train.next_batch(batch_size)\n",
    "            sess.run(train_step,feed_dict={x:batch_xs,y:batch_ys})\n",
    "        \n",
    "        acc = sess.run(accuracy,feed_dict={x:mnist.test.images,y:mnist.test.labels})\n",
    "        print('iter '+str(epoch)+'  ,testing accuracy: '+str(acc))"
   ]
  },
  {
   "cell_type": "code",
   "execution_count": 16,
   "metadata": {},
   "outputs": [
    {
     "name": "stdout",
     "output_type": "stream",
     "text": [
      "Extracting MNIST_data/train-images-idx3-ubyte.gz\n",
      "Extracting MNIST_data/train-labels-idx1-ubyte.gz\n",
      "Extracting MNIST_data/t10k-images-idx3-ubyte.gz\n",
      "Extracting MNIST_data/t10k-labels-idx1-ubyte.gz\n",
      "iter 0  ,testing accuracy: 0.9126  ,training accuracy: 0.91465455\n",
      "iter 1  ,testing accuracy: 0.928  ,training accuracy: 0.9322909\n",
      "iter 2  ,testing accuracy: 0.9252  ,training accuracy: 0.92767274\n",
      "iter 3  ,testing accuracy: 0.9233  ,training accuracy: 0.9298364\n",
      "iter 4  ,testing accuracy: 0.9245  ,training accuracy: 0.9283636\n",
      "iter 5  ,testing accuracy: 0.9317  ,training accuracy: 0.93856364\n",
      "iter 6  ,testing accuracy: 0.9249  ,training accuracy: 0.9331273\n",
      "iter 7  ,testing accuracy: 0.9333  ,training accuracy: 0.9387091\n",
      "iter 8  ,testing accuracy: 0.9423  ,training accuracy: 0.94823635\n",
      "iter 9  ,testing accuracy: 0.9497  ,training accuracy: 0.95354545\n",
      "iter 10  ,testing accuracy: 0.9425  ,training accuracy: 0.9484182\n",
      "iter 11  ,testing accuracy: 0.9486  ,training accuracy: 0.9562909\n",
      "iter 12  ,testing accuracy: 0.9532  ,training accuracy: 0.95616364\n",
      "iter 13  ,testing accuracy: 0.9527  ,training accuracy: 0.9597818\n",
      "iter 14  ,testing accuracy: 0.9561  ,training accuracy: 0.96305454\n",
      "iter 15  ,testing accuracy: 0.9553  ,training accuracy: 0.96523637\n",
      "iter 16  ,testing accuracy: 0.9509  ,training accuracy: 0.9594182\n",
      "iter 17  ,testing accuracy: 0.9582  ,training accuracy: 0.96738183\n",
      "iter 18  ,testing accuracy: 0.9583  ,training accuracy: 0.9649091\n",
      "iter 19  ,testing accuracy: 0.9552  ,training accuracy: 0.96729094\n",
      "iter 20  ,testing accuracy: 0.9638  ,training accuracy: 0.9733091\n",
      "iter 21  ,testing accuracy: 0.9624  ,training accuracy: 0.9736182\n",
      "iter 22  ,testing accuracy: 0.9603  ,training accuracy: 0.9722546\n",
      "iter 23  ,testing accuracy: 0.9639  ,training accuracy: 0.9746909\n",
      "iter 24  ,testing accuracy: 0.9664  ,training accuracy: 0.9782364\n",
      "iter 25  ,testing accuracy: 0.9662  ,training accuracy: 0.97934544\n"
     ]
    }
   ],
   "source": [
    "#利用dropout，防止过拟合\n",
    "import tensorflow as tf\n",
    "from tensorflow.examples.tutorials.mnist import input_data\n",
    "\n",
    "mnist = input_data.read_data_sets('MNIST_data',one_hot=True)\n",
    "\n",
    "#每个批次的大小(表示每一次放入神经网络的图片数)\n",
    "batch_size = 100\n",
    "#计算一共有多少的批次\n",
    "n_batch = mnist.train.num_examples//batch_size\n",
    "\n",
    "#定义两个占位符\n",
    "x = tf.placeholder(tf.float32,[None,784])\n",
    "y = tf.placeholder(tf.float32,[None,10])\n",
    "keep_drop = tf.placeholder(tf.float32) #定义每一层处于工作状态的神经元占比\n",
    "lr = tf.Variable(0.001,dtype=tf.float32)\n",
    "\n",
    "#创建一个神经网络\n",
    "W1 = tf.Variable(tf.truncated_normal([784,500],stddev=0.1)) #初始化的一种迭代方式，标准差置为0.1\n",
    "b1 = tf.Variable(tf.zeros([500])+0.1)\n",
    "L1 = tf.nn.tanh(tf.matmul(x,W1)+b1)\n",
    "L1_drop = tf.nn.dropout(L1,keep_drop)\n",
    "\n",
    "W2 = tf.Variable(tf.truncated_normal([500,300],stddev=0.1)) #初始化的一种迭代方式，标准差置为0.1\n",
    "b2 = tf.Variable(tf.zeros([300])+0.1)\n",
    "L2 = tf.nn.tanh(tf.matmul(L1_drop,W2)+b2)\n",
    "L2_drop = tf.nn.dropout(L2,keep_drop)\n",
    "\n",
    "W3 = tf.Variable(tf.random_normal([300,10]))\n",
    "b3 = tf.Variable(tf.zeros([10]))\n",
    "prediction = tf.matmul(L2_drop,W3)+b3\n",
    "\n",
    "#交叉熵代价函数\n",
    "# loss = tf.reduce_mean(tf.square(y-prediction))\n",
    "loss = tf.reduce_mean(tf.nn.softmax_cross_entropy_with_logits(labels=y,logits=prediction))\n",
    "\n",
    "train_step = tf.train.AdamOptimizer(lr).minimize(loss)\n",
    "\n",
    "init = tf.global_variables_initializer()\n",
    "\n",
    "#结果存放在布尔类型列表中（argmax返回一维张量中最大的值所在的位置）\n",
    "correct_prediction = tf.equal(tf.argmax(y,1),tf.argmax(prediction,1))\n",
    "\n",
    "#把布尔类型转化成成0，1模式\n",
    "accuracy = tf.reduce_mean(tf.cast(correct_prediction,tf.float32))\n",
    "\n",
    "with tf.Session() as sess:\n",
    "    sess.run(init)\n",
    "    for epoch in range(26):\n",
    "        sess.run(tf.assign(lr,0.01*(0.95**epoch)))\n",
    "        for batch in range(n_batch):\n",
    "            batch_xs,batch_ys = mnist.train.next_batch(batch_size)\n",
    "            sess.run(train_step,feed_dict={x:batch_xs,y:batch_ys,keep_drop:1.0})\n",
    "        \n",
    "        test_acc = sess.run(accuracy,feed_dict={x:mnist.test.images,y:mnist.test.labels,keep_drop:1.0})\n",
    "        train_acc = sess.run(accuracy,feed_dict={x:mnist.train.images,y:mnist.train.labels,keep_drop:1.0})\n",
    "        print('iter '+str(epoch)+'  ,testing accuracy: '+str(test_acc)+'  ,training accuracy: '+str(train_acc))"
   ]
  },
  {
   "cell_type": "code",
   "execution_count": 12,
   "metadata": {},
   "outputs": [
    {
     "name": "stdout",
     "output_type": "stream",
     "text": [
      "Extracting MNIST_data/train-images-idx3-ubyte.gz\n",
      "Extracting MNIST_data/train-labels-idx1-ubyte.gz\n",
      "Extracting MNIST_data/t10k-images-idx3-ubyte.gz\n",
      "Extracting MNIST_data/t10k-labels-idx1-ubyte.gz\n",
      "iter 0  ,testing accuracy: 0.9462\n",
      "iter 1  ,testing accuracy: 0.9562\n",
      "iter 2  ,testing accuracy: 0.9585\n",
      "iter 3  ,testing accuracy: 0.9622\n",
      "iter 4  ,testing accuracy: 0.9576\n",
      "iter 5  ,testing accuracy: 0.957\n",
      "iter 6  ,testing accuracy: 0.9607\n",
      "iter 7  ,testing accuracy: 0.9525\n",
      "iter 8  ,testing accuracy: 0.9598\n",
      "iter 9  ,testing accuracy: 0.9624\n",
      "iter 10  ,testing accuracy: 0.9613\n",
      "iter 11  ,testing accuracy: 0.9628\n",
      "iter 12  ,testing accuracy: 0.9649\n",
      "iter 13  ,testing accuracy: 0.9635\n",
      "iter 14  ,testing accuracy: 0.9637\n",
      "iter 15  ,testing accuracy: 0.9627\n",
      "iter 16  ,testing accuracy: 0.9651\n",
      "iter 17  ,testing accuracy: 0.9653\n",
      "iter 18  ,testing accuracy: 0.9616\n",
      "iter 19  ,testing accuracy: 0.9618\n",
      "iter 20  ,testing accuracy: 0.964\n"
     ]
    }
   ],
   "source": [
    "#载入数据库\n",
    "mnist = input_data.read_data_sets('MNIST_data',one_hot=True)\n",
    "\n",
    "#每个批次的大小(表示每一次放入神经网络的图片数)\n",
    "batch_size = 100\n",
    "#计算一共有多少的批次\n",
    "n_batch = mnist.train.num_examples//batch_size\n",
    "\n",
    "#定义两个占位符\n",
    "x = tf.placeholder(tf.float32,[None,784])\n",
    "y = tf.placeholder(tf.float32,[None,10])\n",
    "\n",
    "#创建一个神经网络\n",
    "W = tf.Variable(tf.zeros([784,50]))\n",
    "b = tf.Variable(tf.zeros([50]))\n",
    "prediction1 = tf.nn.tanh(tf.matmul(x,W)+b)\n",
    "# prediction1 = tf.matmul(x,W)+b\n",
    "\n",
    "W1 = tf.Variable(tf.random_normal([50,10]))\n",
    "b1 = tf.Variable(tf.zeros([10]))\n",
    "prediction = tf.matmul(prediction1,W1)+b1\n",
    "\n",
    "#二次代价\n",
    "# loss = tf.reduce_mean(tf.square(y-prediction))\n",
    "loss = tf.reduce_mean(tf.nn.softmax_cross_entropy_with_logits(labels=y,logits=prediction))\n",
    "\n",
    "# train_step = tf.train.GradientDescentOptimizer(0.2).minimize(loss)\n",
    "train_step = tf.train.AdamOptimizer(1e-2).minimize(loss)\n",
    "\n",
    "init = tf.global_variables_initializer()\n",
    "\n",
    "#结果存放在布尔类型列表中（argmax返回一维张量中最大的值所在的位置）\n",
    "correct_prediction = tf.equal(tf.argmax(y,1),tf.argmax(prediction,1))\n",
    "\n",
    "#把布尔类型转化成成0，1模式\n",
    "accuracy = tf.reduce_mean(tf.cast(correct_prediction,tf.float32))\n",
    "\n",
    "with tf.Session() as sess:\n",
    "    sess.run(init)\n",
    "    for epoch in range(21):\n",
    "        for batch in range(n_batch):\n",
    "            batch_xs,batch_ys = mnist.train.next_batch(batch_size)\n",
    "            sess.run(train_step,feed_dict={x:batch_xs,y:batch_ys})\n",
    "        \n",
    "        acc = sess.run(accuracy,feed_dict={x:mnist.test.images,y:mnist.test.labels})\n",
    "        print('iter '+str(epoch)+'  ,testing accuracy: '+str(acc))"
   ]
  },
  {
   "cell_type": "code",
   "execution_count": 22,
   "metadata": {},
   "outputs": [
    {
     "name": "stdout",
     "output_type": "stream",
     "text": [
      "Extracting MNIST_data/train-images-idx3-ubyte.gz\n",
      "Extracting MNIST_data/train-labels-idx1-ubyte.gz\n",
      "Extracting MNIST_data/t10k-images-idx3-ubyte.gz\n",
      "Extracting MNIST_data/t10k-labels-idx1-ubyte.gz\n",
      "iter 0  ,testing accuracy: 0.9101\n"
     ]
    }
   ],
   "source": [
    "#利用tensorboard绘制网络结构\n",
    "mnist = input_data.read_data_sets('MNIST_data',one_hot=True)\n",
    "\n",
    "#每个批次的大小(表示每一次放入神经网络的图片数)\n",
    "batch_size = 100\n",
    "#计算一共有多少的批次\n",
    "n_batch = mnist.train.num_examples//batch_size\n",
    "\n",
    "#定义命名空间\n",
    "with tf.name_scope('input'):\n",
    "    #定义两个占位符\n",
    "    x = tf.placeholder(tf.float32,[None,784],name='x-input')\n",
    "    y = tf.placeholder(tf.float32,[None,10],name='y-input')\n",
    "\n",
    "#创建一个神经网络\n",
    "# W = tf.Variable(tf.zeros([784,50]))\n",
    "# b = tf.Variable(tf.zeros([50]))\n",
    "# prediction1 = tf.nn.tanh(tf.matmul(x,W)+b)\n",
    "# prediction1 = tf.matmul(x,W)+b\n",
    "\n",
    "# W1 = tf.Variable(tf.random_normal([50,10]))\n",
    "W = tf.Variable(tf.zeros([784,10]))\n",
    "b = tf.Variable(tf.zeros([10]))\n",
    "prediction = tf.matmul(x,W)+b\n",
    "\n",
    "#二次代价\n",
    "# loss = tf.reduce_mean(tf.square(y-prediction))\n",
    "loss = tf.reduce_mean(tf.nn.softmax_cross_entropy_with_logits(labels=y,logits=prediction))\n",
    "\n",
    "train_step = tf.train.GradientDescentOptimizer(0.2).minimize(loss)\n",
    "# train_step = tf.train.AdamOptimizer(1e-2).minimize(loss)\n",
    "\n",
    "init = tf.global_variables_initializer()\n",
    "\n",
    "#结果存放在布尔类型列表中（argmax返回一维张量中最大的值所在的位置）\n",
    "correct_prediction = tf.equal(tf.argmax(y,1),tf.argmax(prediction,1))\n",
    "\n",
    "#把布尔类型转化成成0，1模式\n",
    "accuracy = tf.reduce_mean(tf.cast(correct_prediction,tf.float32))\n",
    "\n",
    "with tf.Session() as sess:\n",
    "    sess.run(init)\n",
    "    writer = tf.summary.FileWriter('logs/',sess.graph)\n",
    "    for epoch in range(1):\n",
    "        for batch in range(n_batch):\n",
    "            batch_xs,batch_ys = mnist.train.next_batch(batch_size)\n",
    "            sess.run(train_step,feed_dict={x:batch_xs,y:batch_ys})\n",
    "        \n",
    "        acc = sess.run(accuracy,feed_dict={x:mnist.test.images,y:mnist.test.labels})\n",
    "        print('iter '+str(epoch)+'  ,testing accuracy: '+str(acc))\n",
    "        \n",
    "        \n",
    "#利用tensorboard --logdir 路径(logs文件夹的路径)  获取地址查看graph"
   ]
  },
  {
   "cell_type": "code",
   "execution_count": null,
   "metadata": {},
   "outputs": [],
   "source": []
  }
 ],
 "metadata": {
  "kernelspec": {
   "display_name": "Python 3",
   "language": "python",
   "name": "python3"
  },
  "language_info": {
   "codemirror_mode": {
    "name": "ipython",
    "version": 3
   },
   "file_extension": ".py",
   "mimetype": "text/x-python",
   "name": "python",
   "nbconvert_exporter": "python",
   "pygments_lexer": "ipython3",
   "version": "3.7.3"
  }
 },
 "nbformat": 4,
 "nbformat_minor": 2
}
